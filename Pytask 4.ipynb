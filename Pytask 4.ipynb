{
 "cells": [
  {
   "cell_type": "code",
   "execution_count": 25,
   "metadata": {},
   "outputs": [
    {
     "name": "stdout",
     "output_type": "stream",
     "text": [
      "Total vowels: 12\n",
      "A : 1\n",
      "E : 5\n",
      "I : 4\n",
      "O : 1\n",
      "U : 1\n"
     ]
    }
   ],
   "source": [
    "\n",
    "# python program to calculate the total number of vowels and count of each individual vowel A,E,I,O,U in the string \"Guvi Geeks Network Private Limited\" ?\n",
    "\n",
    "def count_vowels(string):\n",
    "    vowels = 'AEIOU'\n",
    "    total_vowels = 0\n",
    "    vowel_counts = {vowel: 0 for vowel in vowels}\n",
    "    \n",
    "    for char in string.upper():\n",
    "        if char in vowels:\n",
    "            total_vowels += 1\n",
    "            vowel_counts[char] += 1\n",
    "            \n",
    "    return total_vowels, vowel_counts\n",
    "\n",
    "input_string = \"Guvi Geeks Network Private Limited\"\n",
    "total_vowels, vowel_counts = count_vowels(input_string)\n",
    "\n",
    "print(\"Total vowels:\", total_vowels)\n",
    "for vowel, count in vowel_counts.items():\n",
    "    print(vowel, \":\", count)"
   ]
  },
  {
   "cell_type": "code",
   "execution_count": null,
   "metadata": {},
   "outputs": [
    {
     "name": "stdout",
     "output_type": "stream",
     "text": [
      "1\n",
      "2\n",
      "3\n",
      "4\n",
      "5\n",
      "6\n",
      "7\n",
      "8\n",
      "9\n",
      "10\n",
      "11\n",
      "12\n",
      "13\n",
      "14\n",
      "15\n",
      "16\n",
      "17\n",
      "18\n",
      "19\n",
      "20\n"
     ]
    }
   ],
   "source": [
    "# create a pyramid of number from 1 to 20 using for loop ?\n",
    "\n",
    "for n in range (1 , 21):\n",
    "    print(n)\n"
   ]
  },
  {
   "cell_type": "code",
   "execution_count": 24,
   "metadata": {},
   "outputs": [
    {
     "name": "stdout",
     "output_type": "stream",
     "text": [
      "Hll, Wrld!\n"
     ]
    }
   ],
   "source": [
    "write a program that takes a strings and returns a new string with all the vowels removed ?\n",
    "\n",
    "def remove_vowels(string):\n",
    "\n",
    "  vowels = \"aeiouAEIOU\"\n",
    "  result = \"\"\n",
    "  for char in string:\n",
    "    if char not in vowels:\n",
    "      result += char\n",
    "  return result\n",
    "\n",
    "input_string = \"Hello, World!\"\n",
    "print(remove_vowels(input_string))"
   ]
  },
  {
   "cell_type": "code",
   "execution_count": 26,
   "metadata": {},
   "outputs": [
    {
     "name": "stdout",
     "output_type": "stream",
     "text": [
      "Number of unique characters: 0\n"
     ]
    }
   ],
   "source": [
    "# write a program that takes a string and returns the number of unique characters in it ?\n",
    "\n",
    "def count_unique_characters(input_string):\n",
    "    return len(set(input_string))\n",
    "\n",
    "# Input string\n",
    "input_string = input(\"Enter a string: \")\n",
    "\n",
    "# Call the function and print the result\n",
    "print(\"Number of unique characters:\", count_unique_characters(input_string))"
   ]
  },
  {
   "cell_type": "code",
   "execution_count": 27,
   "metadata": {},
   "outputs": [
    {
     "name": "stdout",
     "output_type": "stream",
     "text": [
      "The string is a palindrome.\n"
     ]
    }
   ],
   "source": [
    "# write a program that takes a string and returns true if it is a palindrome false otherwise \n",
    "\n",
    "def is_palindrome(input_string):\n",
    "    # Convert the input string to lowercase\n",
    "    input_string = input_string.lower()\n",
    "    # Check if the reversed string is equal to the original string\n",
    "    return input_string == input_string[::-1]\n",
    "\n",
    "# Input string\n",
    "input_string = input(\"Enter a string: \")\n",
    "\n",
    "# Call the function and print the result\n",
    "if is_palindrome(input_string):\n",
    "    print(\"The string is a palindrome.\")\n",
    "else:\n",
    "    print(\"The string is not a palindrome.\")"
   ]
  },
  {
   "cell_type": "code",
   "execution_count": 28,
   "metadata": {},
   "outputs": [
    {
     "name": "stdout",
     "output_type": "stream",
     "text": [
      "Longest common substring: \n"
     ]
    }
   ],
   "source": [
    "# write a program that takes a string and returns the Longesr common substring between them ?\n",
    "\n",
    "def longest_common_substring(string1, string2):\n",
    "    max_length = 0\n",
    "    start_index = 0\n",
    "\n",
    "    for i in range(len(string1)):\n",
    "        for j in range(len(string2)):\n",
    "            length = 0\n",
    "            while (i + length < len(string1) and j + length < len(string2) and\n",
    "                   string1[i + length] == string2[j + length]):\n",
    "                length += 1\n",
    "            if length > max_length:\n",
    "                max_length = length\n",
    "                start_index = i\n",
    "    \n",
    "    return string1[start_index:start_index + max_length]\n",
    "\n",
    "# Input strings\n",
    "string1 = input(\"Enter the first string: \")\n",
    "string2 = input(\"Enter the second string: \")\n",
    "\n",
    "# Call the function and print the result\n",
    "print(\"Longest common substring:\", longest_common_substring(string1, string2))"
   ]
  },
  {
   "cell_type": "code",
   "execution_count": 34,
   "metadata": {},
   "outputs": [
    {
     "name": "stdout",
     "output_type": "stream",
     "text": [
      "Most frequent character in 'Hello world!': l\n",
      "Most frequent character in 'Mississippi': i\n",
      "Most frequent character in 'aabcccc': c\n"
     ]
    },
    {
     "ename": "NameError",
     "evalue": "name 'Use' is not defined",
     "output_type": "error",
     "traceback": [
      "\u001b[1;31m---------------------------------------------------------------------------\u001b[0m",
      "\u001b[1;31mNameError\u001b[0m                                 Traceback (most recent call last)",
      "Cell \u001b[1;32mIn[34], line 32\u001b[0m\n\u001b[0;32m     30\u001b[0m \u001b[38;5;28mprint\u001b[39m(\u001b[38;5;124mf\u001b[39m\u001b[38;5;124m\"\u001b[39m\u001b[38;5;124mMost frequent character in \u001b[39m\u001b[38;5;124m'\u001b[39m\u001b[38;5;132;01m{\u001b[39;00mtext2\u001b[38;5;132;01m}\u001b[39;00m\u001b[38;5;124m'\u001b[39m\u001b[38;5;124m: \u001b[39m\u001b[38;5;132;01m{\u001b[39;00mmost_frequent_char(text2)\u001b[38;5;132;01m}\u001b[39;00m\u001b[38;5;124m\"\u001b[39m)\n\u001b[0;32m     31\u001b[0m \u001b[38;5;28mprint\u001b[39m(\u001b[38;5;124mf\u001b[39m\u001b[38;5;124m\"\u001b[39m\u001b[38;5;124mMost frequent character in \u001b[39m\u001b[38;5;124m'\u001b[39m\u001b[38;5;132;01m{\u001b[39;00mtext3\u001b[38;5;132;01m}\u001b[39;00m\u001b[38;5;124m'\u001b[39m\u001b[38;5;124m: \u001b[39m\u001b[38;5;132;01m{\u001b[39;00mmost_frequent_char(text3)\u001b[38;5;132;01m}\u001b[39;00m\u001b[38;5;124m\"\u001b[39m)\n\u001b[1;32m---> 32\u001b[0m \u001b[43mUse\u001b[49m \n",
      "\u001b[1;31mNameError\u001b[0m: name 'Use' is not defined"
     ]
    }
   ],
   "source": [
    "# write a program that takes a string and returns the most frequent character in it ?\n",
    "\n",
    "\n",
    "def most_frequent_char(text):\n",
    "  \"\"\"Finds the most frequent character in a string.\n",
    "\n",
    "  Args:\n",
    "      text: The string to analyze.\n",
    "\n",
    "  Returns:\n",
    "      The most frequent character in the string, or None if all characters are unique.\n",
    "  \"\"\"\n",
    "  char_counts = {}\n",
    "  for char in text:\n",
    "    char_counts[char] = char_counts.get(char, 0) + 1  # Initialize count to 0 if not present\n",
    "\n",
    "  # Find the character with the highest count\n",
    "  most_frequent_char = None\n",
    "  max_count = 0\n",
    "  for char, count in char_counts.items():\n",
    "    if count > max_count:\n",
    "      most_frequent_char = char\n",
    "      max_count = count\n",
    "\n",
    "  return most_frequent_char\n",
    "\n",
    "# Test the function with different scenarios\n",
    "text1 = \"Hello world!\"\n",
    "text2 = \"Mississippi\"\n",
    "text3 = \"aabcccc\"\n",
    "\n",
    "print(f\"Most frequent character in '{text1}': {most_frequent_char(text1)}\")\n",
    "print(f\"Most frequent character in '{text2}': {most_frequent_char(text2)}\")\n",
    "print(f\"Most frequent character in '{text3}': {most_frequent_char(text3)}\")\n",
    "Use "
   ]
  },
  {
   "cell_type": "code",
   "execution_count": 36,
   "metadata": {},
   "outputs": [
    {
     "name": "stdout",
     "output_type": "stream",
     "text": [
      "The strings are anagrams.\n"
     ]
    }
   ],
   "source": [
    "# write a program that takes a string and returns ture if it is an anagram of another string false otherwise?\n",
    "\n",
    "def is_anagram(string1, string2):\n",
    "    # Remove spaces and convert to lowercase for case-insensitive comparison\n",
    "    string1 = string1.replace(\" \", \"\").lower()\n",
    "    string2 = string2.replace(\" \", \"\").lower()\n",
    "\n",
    "    # Sort the characters in both strings\n",
    "    sorted_string1 = sorted(string1)\n",
    "    sorted_string2 = sorted(string2)\n",
    "\n",
    "    # Check if the sorted strings are equal\n",
    "    return sorted_string1 == sorted_string2\n",
    "\n",
    "# Input strings\n",
    "string1 = input(\"Enter the first string: \")\n",
    "string2 = input(\"Enter the second string: \")\n",
    "\n",
    "# Call the function and print the result\n",
    "if is_anagram(string1, string2):\n",
    "    print(\"The strings are anagrams.\")\n",
    "else:\n",
    "    print(\"The strings are not anagrams.\")"
   ]
  },
  {
   "cell_type": "code",
   "execution_count": 37,
   "metadata": {},
   "outputs": [
    {
     "name": "stdout",
     "output_type": "stream",
     "text": [
      "Number of words: 0\n"
     ]
    }
   ],
   "source": [
    "# write a program that takes a string and returns the number of words in it ?\n",
    "\n",
    "def count_words(input_string):\n",
    "    # Split the string into words using whitespace as the delimiter\n",
    "    words = input_string.split()\n",
    "    # Return the number of words\n",
    "    return len(words)\n",
    "\n",
    "# Input string\n",
    "input_string = input(\"Enter a string: \")\n",
    "\n",
    "# Call the function and print the result\n",
    "print(\"Number of words:\", count_words(input_string))"
   ]
  }
 ],
 "metadata": {
  "kernelspec": {
   "display_name": "Python 3",
   "language": "python",
   "name": "python3"
  },
  "language_info": {
   "codemirror_mode": {
    "name": "ipython",
    "version": 3
   },
   "file_extension": ".py",
   "mimetype": "text/x-python",
   "name": "python",
   "nbconvert_exporter": "python",
   "pygments_lexer": "ipython3",
   "version": "3.12.2"
  }
 },
 "nbformat": 4,
 "nbformat_minor": 2
}
